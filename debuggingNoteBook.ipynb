{
 "cells": [
  {
   "cell_type": "code",
   "execution_count": 7,
   "id": "1b7e5a96",
   "metadata": {},
   "outputs": [],
   "source": [
    "from dotenv import load_dotenv\n",
    "from os.path import join, dirname\n",
    "from google.cloud import bigquery\n",
    "import json "
   ]
  },
  {
   "cell_type": "code",
   "execution_count": 8,
   "id": "c4290c72",
   "metadata": {},
   "outputs": [],
   "source": [
    "dotenv_path = '.env'\n",
    "load_dotenv(dotenv_path)\n",
    "srcJsonPath = \"/home/pardhu448/Projects/indusAction/redesignBocwGrievanceSystem/BoCWDataPipeline/BoCWDataPipeline/data/dailyMongoDump\""
   ]
  },
  {
   "cell_type": "code",
   "execution_count": 13,
   "id": "6bd69f92",
   "metadata": {},
   "outputs": [],
   "source": [
    "from datetime import datetime\n",
    "import pytz \n",
    "tz = pytz.timezone(\"Asia/Kolkata\")\n",
    "\n",
    "def replaceDateTimeWithTZ(newDict, k, v):\n",
    "        #from IPython.core.debugger import set_trace\n",
    "        #set_trace()\n",
    "        \n",
    "        if k == 'created_at':    \n",
    "            formatIST = '%d/%m/%Y %I:%M:%S %p'\n",
    "            \n",
    "        elif k in ['identification_data_created', \n",
    "                   'identification_data_modified', \n",
    "                   #'claims_documentation_data_created', \n",
    "                   #'claims_documentation_data_modified', \n",
    "                   'registration_documentation_data_created', \n",
    "                   'registration_documentation_data_modified',\n",
    "                   'registration_application_data_created', \n",
    "                   'registration_application_data_modified']:\n",
    "            #from IPython.core.debugger import set_trace\n",
    "            #set_trace()\n",
    "            formatIST = '%m/%d/%Y, %I:%M:%S %p'\n",
    "            \n",
    "        elif k in ['claims_documentation_data_created','claims_documentation_data_modified']:\n",
    "            #from IPython.core.debugger import set_trace\n",
    "            #set_trace()\n",
    "            formatIST = '%m/%d/%Y, %I:%M:%S %p'\n",
    "            \n",
    "        else:\n",
    "            return newDict\n",
    "        \n",
    "        #newDict.pop(k, None)\n",
    "        formatUTC = '%d/%m/%Y %H:%M:%S'\n",
    "        formattedDt = datetime.strptime(v, formatIST)\n",
    "        formattedDtString = datetime.strftime(tz.normalize(tz.localize(formattedDt)).astimezone(pytz.utc), formatUTC)\n",
    "        newDict[k] = formattedDtString            \n",
    "        return newDict"
   ]
  },
  {
   "cell_type": "code",
   "execution_count": 14,
   "id": "6c59eb16",
   "metadata": {},
   "outputs": [],
   "source": [
    "def getFormattedData(newDict, k, v):\n",
    "    #from IPython.core.debugger import set_trace\n",
    "    #set_trace()\n",
    "    \n",
    "    import string\n",
    "    #newDict.pop(k, None)\n",
    "    #Remove blank spaces in fields\n",
    "    newKey = k.replace(' ', '_')\n",
    "    #Remove dollars in fields\n",
    "    newKey = newKey.replace('$', '_')\n",
    "    #Remove square brackets in fields\n",
    "    table = str.maketrans('[]', '__')\n",
    "    newKeyFinal = newKey.translate(table) \n",
    "    newDict[newKeyFinal] = v\n",
    "    #from IPython.core.debugger import set_trace\n",
    "    #set_trace()\n",
    "\n",
    "    newDict = replaceDateTimeWithTZ(newDict, newKeyFinal, v)\n",
    "    return newDict    "
   ]
  },
  {
   "cell_type": "code",
   "execution_count": 15,
   "id": "cebdc14a",
   "metadata": {},
   "outputs": [],
   "source": [
    "def parseJsonFile(jsonDict):\n",
    "        new = {}                                          \n",
    "        for k, v in jsonDict.items():                            \n",
    "            k = k.encode('raw-unicode-escape').split(b'\\\\u')[0].decode()\n",
    "            if isinstance(v, dict):\n",
    "                v = parseJsonFile(v)\n",
    "            new = getFormattedData(new, k, v)    \n",
    "            #new = replaceDollarsInKeys(new, k, v)\n",
    "            #new = replaceSquareBracketsInFields(new, k, v)\n",
    "            #new = replaceDateTimeWithTZ(new, k, v)\n",
    "        return new\n",
    "    #jsonDollarsReplaced = replaceAllDollarsInKeys(jsonDict)\n",
    "    #jsonTZReplaced = replaceDateTimeWithTZ(jsonDollarsReplaced)\n",
    "    #return jsonTZReplaced\n",
    "    #return jsonDollarsReplaced"
   ]
  },
  {
   "cell_type": "code",
   "execution_count": 16,
   "id": "4ce66716",
   "metadata": {},
   "outputs": [
    {
     "name": "stdout",
     "output_type": "stream",
     "text": [
      "[{'mobile': '6204030448', 'state': 'Delhi BoCW 2021', 'created_at': '03/08/2022 06:52:37', 'operation': 'CREATE', 'data': {'mobile': '6204030448', 'state': 'Delhi BoCW 2021', 'persistent_data_statusOfAwarenessAboutClaims': 'aware', 'persistent_data_sourceOfInformation': 'missedCallHelpline', 'persistent_data_nameOfWorker': 'Dev Krishna Kumar', 'persistent_data_age': 25, 'persistent_data_genderOfTheWorker': 'male', 'persistent_data_area': 'Narela', 'persistent_data_pincode': 110040, 'persistent_data_district': 'northWestDelhi', 'persistent_data_statusOfLabourCard': 'available', 'persistent_data_labourCardNumberIfAvailable': 51380000262751, 'persistent_data_dateOfRegistrationOrLastRenewal': 'Fri Mar 19 2021', 'claims_documentation_id': '61aaeebf0a8065001a08fe1c', 'claims_documentation_status': 'Call Again', 'claims_documentation_assigneeMobile': '9810207515', 'claims_documentation_assigneeName': 'Ananya Iyer', 'claims_documentation_data_created': '03/12/2021 22:59:51', 'claims_documentation_data_modified': '08/02/2022 03:34:28', 'claims_documentation_data_whichClaimWouldTheWorkerWantToApplyFor_0_': 'exGratiaRelated', 'claims_documentation_data_exGratiaRelated_0_': 'activeLabourCard', 'claims_documentation_data_exGratiaRelated_1_': 'updatedBankDetails', 'claims_documentation_data_natureOfGrievanceQuery': 'yes', 'claims_documentation_data_grievanceClDoc': 'Ex gratia payment not received', 'identification_id': '61aaeebe0a8065001a08fe17', 'identification_status': 'Call Done', 'identification_assigneeMobile': '9999137856', 'identification_assigneeName': 'Dipali shukla', 'identification_data_created': '03/12/2021 22:59:50', 'identification_data_modified': '03/12/2021 22:59:50', 'identification_data_statusOfAwarenessAboutLabourCard': 'aware', 'identification_data_whetherTheWorkerAndHisFamilyAreResidentsOfDelhi': 'yes', 'identification_data_detailsOfTheWorkersFamily_0_': 'wife', 'identification_data_detailsOfTheWorkersFamily_1_': 'children', 'identification_data_detailsOfTheWorkersFamily_2_': 'others', 'identification_data_ifTheFemaleWorkerHerselfOrAMaleWorkersWifeIsPregnant': 'no'}, 'document_name': 'Delhi BoCW'}, {'mobile': '6204030448', 'state': 'Delhi BoCW 2021', 'created_at': '03/09/2022 06:52:37', 'operation': 'CREATE', 'data': {'mobile': '6204030448', 'state': 'Delhi BoCW 2021', 'persistent_data_statusOfAwarenessAboutClaims': 'aware', 'persistent_data_sourceOfInformation': 'missedCallHelpline', 'persistent_data_nameOfWorker': 'Dev Krishna Kumar', 'persistent_data_age': 25, 'persistent_data_genderOfTheWorker': 'male', 'persistent_data_area': 'Narela', 'persistent_data_pincode': 110040, 'persistent_data_district': 'northWestDelhi', 'persistent_data_statusOfLabourCard': 'available', 'persistent_data_labourCardNumberIfAvailable': 51380000262751, 'persistent_data_dateOfRegistrationOrLastRenewal': 'Fri Mar 19 2021', 'claims_documentation_id': '61aaeebf0a8065001a08fe1c', 'claims_documentation_status': 'Call Again', 'claims_documentation_assigneeMobile': '9810207515', 'claims_documentation_assigneeName': 'Ananya Iyer', 'claims_documentation_data_created': '03/12/2021 22:59:51', 'claims_documentation_data_modified': '08/02/2022 03:34:28', 'claims_documentation_data_whichClaimWouldTheWorkerWantToApplyFor_0_': 'exGratiaRelated', 'claims_documentation_data_exGratiaRelated_0_': 'activeLabourCard', 'claims_documentation_data_exGratiaRelated_1_': 'updatedBankDetails', 'claims_documentation_data_natureOfGrievanceQuery': 'yes', 'claims_documentation_data_grievanceClDoc': 'Ex gratia payment not received', 'identification_id': '61aaeebe0a8065001a08fe17', 'identification_status': 'Call Done', 'identification_assigneeMobile': '9999137856', 'identification_assigneeName': 'Dipali shukla', 'identification_data_created': '03/12/2021 22:59:50', 'identification_data_modified': '03/12/2021 22:59:50', 'identification_data_statusOfAwarenessAboutLabourCard': 'aware', 'identification_data_whetherTheWorkerAndHisFamilyAreResidentsOfDelhi': 'yes', 'identification_data_detailsOfTheWorkersFamily_0_': 'wife', 'identification_data_detailsOfTheWorkersFamily_1_': 'children', 'identification_data_detailsOfTheWorkersFamily_2_': 'others', 'identification_data_ifTheFemaleWorkerHerselfOrAMaleWorkersWifeIsPregnant': 'no'}, 'document_name': 'Delhi BoCW'}, {'mobile': '6204030448', 'state': 'Delhi BoCW 2021', 'created_at': '03/11/2022 06:52:37', 'operation': 'CREATE', 'data': {'mobile': '6204030448', 'state': 'Delhi BoCW 2021', 'persistent_data_statusOfAwarenessAboutClaims': 'aware', 'persistent_data_sourceOfInformation': 'missedCallHelpline', 'persistent_data_nameOfWorker': 'Dev Krishna Kumar', 'persistent_data_age': 25, 'persistent_data_genderOfTheWorker': 'male', 'persistent_data_area': 'Narela', 'persistent_data_pincode': 110040, 'persistent_data_district': 'northWestDelhi', 'persistent_data_statusOfLabourCard': 'available', 'persistent_data_labourCardNumberIfAvailable': 51380000262751, 'persistent_data_dateOfRegistrationOrLastRenewal': 'Fri Mar 19 2021', 'claims_documentation_id': '61aaeebf0a8065001a08fe1c', 'claims_documentation_status': 'Call Again', 'claims_documentation_assigneeMobile': '9810207515', 'claims_documentation_assigneeName': 'Ananya Iyer', 'claims_documentation_data_created': '03/12/2021 22:59:51', 'claims_documentation_data_modified': '08/02/2022 03:34:28', 'claims_documentation_data_whichClaimWouldTheWorkerWantToApplyFor_0_': 'exGratiaRelated', 'claims_documentation_data_exGratiaRelated_0_': 'activeLabourCard', 'claims_documentation_data_exGratiaRelated_1_': 'updatedBankDetails', 'claims_documentation_data_natureOfGrievanceQuery': 'yes', 'claims_documentation_data_grievanceClDoc': 'Ex gratia payment not received', 'identification_id': '61aaeebe0a8065001a08fe17', 'identification_status': 'Call Done', 'identification_assigneeMobile': '9999137856', 'identification_assigneeName': 'Dipali shukla', 'identification_data_created': '03/12/2021 22:59:50', 'identification_data_modified': '03/12/2021 22:59:50', 'identification_data_statusOfAwarenessAboutLabourCard': 'aware', 'identification_data_whetherTheWorkerAndHisFamilyAreResidentsOfDelhi': 'yes', 'identification_data_detailsOfTheWorkersFamily_0_': 'wife', 'identification_data_detailsOfTheWorkersFamily_1_': 'children', 'identification_data_detailsOfTheWorkersFamily_2_': 'others', 'identification_data_ifTheFemaleWorkerHerselfOrAMaleWorkersWifeIsPregnant': 'no'}, 'document_name': 'Delhi BoCW'}, {'mobile': '6204030448', 'state': 'Delhi BoCW 2021', 'created_at': '03/10/2022 06:52:37', 'operation': 'CREATE', 'data': {'mobile': '6204030448', 'state': 'Delhi BoCW 2021', 'persistent_data_statusOfAwarenessAboutClaims': 'aware', 'persistent_data_sourceOfInformation': 'missedCallHelpline', 'persistent_data_nameOfWorker': 'Dev Krishna Kumar', 'persistent_data_age': 25, 'persistent_data_genderOfTheWorker': 'male', 'persistent_data_area': 'Narela', 'persistent_data_pincode': 110040, 'persistent_data_district': 'northWestDelhi', 'persistent_data_statusOfLabourCard': 'available', 'persistent_data_labourCardNumberIfAvailable': 51380000262751, 'persistent_data_dateOfRegistrationOrLastRenewal': 'Fri Mar 19 2021', 'identification_id': '61aaeebe0a8065001a08fe17', 'identification_status': 'Call Done', 'identification_assigneeMobile': '9999137856', 'identification_assigneeName': 'Dipali shukla', 'identification_data_created': '03/12/2021 22:59:50', 'identification_data_modified': '03/12/2021 22:59:50', 'identification_data_statusOfAwarenessAboutLabourCard': 'aware', 'identification_data_whetherTheWorkerAndHisFamilyAreResidentsOfDelhi': 'yes', 'identification_data_detailsOfTheWorkersFamily_0_': 'wife', 'identification_data_detailsOfTheWorkersFamily_1_': 'children', 'identification_data_detailsOfTheWorkersFamily_2_': 'others', 'identification_data_ifTheFemaleWorkerHerselfOrAMaleWorkersWifeIsPregnant': 'no', 'claims_documentation_id': '61aaeebf0a8065001a08fe1c', 'claims_documentation_status': 'Call Again', 'claims_documentation_assigneeMobile': '9810207515', 'claims_documentation_assigneeName': 'Ananya Iyer', 'claims_documentation_data_created': '03/12/2021 22:59:51', 'claims_documentation_data_modified': '08/02/2022 03:34:28', 'claims_documentation_data_whichClaimWouldTheWorkerWantToApplyFor_0_': 'exGratiaRelated', 'claims_documentation_data_exGratiaRelated_0_': 'activeLabourCard', 'claims_documentation_data_exGratiaRelated_1_': 'updatedBankDetails', 'claims_documentation_data_natureOfGrievanceQuery': 'yes', 'claims_documentation_data_grievanceClDoc': 'Ex gratia payment not received'}, 'document_name': 'Delhi BoCW'}, {'mobile': '6206473081', 'state': 'Delhi BoCW 2021', 'created_at': '03/07/2022 06:52:37', 'operation': 'CREATE', 'data': {'mobile': '6206473081', 'state': 'Delhi BoCW 2021', 'persistent_data_statusOfAwarenessAboutClaims': 'aware', 'persistent_data_sourceOfInformation': 'groundSurvey', 'persistent_data_nameOfWorker': 'Mahmad azaj', 'persistent_data_age': 37, 'persistent_data_genderOfTheWorker': 'male', 'persistent_data_area': 'Mukandpur', 'persistent_data_pincode': 110047, 'persistent_data_district': 'northDelhi', 'persistent_data_statusOfLabourCard': 'toBeApplied', 'identification_id': '61dc56990a8065001a0922fc', 'identification_status': 'Call Done', 'identification_assigneeMobile': '8178214785', 'identification_assigneeName': 'Navita', 'identification_data_created': '10/01/2022 10:24:01', 'identification_data_modified': '10/01/2022 10:24:01', 'identification_data_statusOfAwarenessAboutLabourCard': 'aware', 'identification_data_whetherTheWorkerAndHisFamilyAreResidentsOfDelhi': 'yes', 'identification_data_detailsOfTheWorkersFamily_0_': 'wife', 'identification_data_detailsOfTheWorkersFamily_1_': 'children', 'identification_data_howManyChildrenDoesTheWorkerHave': 5, 'identification_data_ifTheFemaleWorkerHerselfOrAMaleWorkersWifeIsPregnant': 'no', 'registration_documentation_id': '', 'registration_documentation_status': 'Call Not Done', 'registration_documentation_assigneeMobile': '7982109747', 'registration_documentation_assigneeName': 'Meenu'}, 'document_name': 'Delhi BoCW'}, {'mobile': '6206473081', 'state': 'Delhi BoCW 2021', 'created_at': '03/08/2022 06:52:37', 'operation': 'CREATE', 'data': {'mobile': '6206473081', 'state': 'Delhi BoCW 2021', 'persistent_data_statusOfAwarenessAboutClaims': 'aware', 'persistent_data_sourceOfInformation': 'groundSurvey', 'persistent_data_nameOfWorker': 'Mahmad azaj', 'persistent_data_age': 37, 'persistent_data_genderOfTheWorker': 'male', 'persistent_data_area': 'Mukandpur', 'persistent_data_pincode': 110047, 'persistent_data_district': 'northDelhi', 'persistent_data_statusOfLabourCard': 'toBeApplied', 'identification_id': '61dc56990a8065001a0922fc', 'identification_status': 'Call Done', 'identification_assigneeMobile': '8178214785', 'identification_assigneeName': 'Navita', 'identification_data_created': '10/01/2022 10:24:01', 'identification_data_modified': '10/01/2022 10:24:01', 'identification_data_statusOfAwarenessAboutLabourCard': 'aware', 'identification_data_whetherTheWorkerAndHisFamilyAreResidentsOfDelhi': 'yes', 'identification_data_detailsOfTheWorkersFamily_0_': 'wife', 'identification_data_detailsOfTheWorkersFamily_1_': 'children', 'identification_data_howManyChildrenDoesTheWorkerHave': 5, 'identification_data_ifTheFemaleWorkerHerselfOrAMaleWorkersWifeIsPregnant': 'no', 'registration_documentation_id': '', 'registration_documentation_status': 'Call Not Done', 'registration_documentation_assigneeMobile': '7982109747', 'registration_documentation_assigneeName': 'Meenu'}, 'document_name': 'Delhi BoCW'}, {'mobile': '6206473081', 'state': 'Delhi BoCW 2021', 'created_at': '03/09/2022 06:52:37', 'operation': 'CREATE', 'data': {'mobile': '6206473081', 'state': 'Delhi BoCW 2021', 'persistent_data_statusOfAwarenessAboutClaims': 'aware', 'persistent_data_sourceOfInformation': 'groundSurvey', 'persistent_data_nameOfWorker': 'Mahmad azaj', 'persistent_data_age': 37, 'persistent_data_genderOfTheWorker': 'male', 'persistent_data_area': 'Mukandpur', 'persistent_data_pincode': 110047, 'persistent_data_district': 'northDelhi', 'persistent_data_statusOfLabourCard': 'toBeApplied', 'identification_id': '61dc56990a8065001a0922fc', 'identification_status': 'Call Done', 'identification_assigneeMobile': '8178214785', 'identification_assigneeName': 'Navita', 'identification_data_created': '10/01/2022 10:24:01', 'identification_data_modified': '10/01/2022 10:24:01', 'identification_data_statusOfAwarenessAboutLabourCard': 'aware', 'identification_data_whetherTheWorkerAndHisFamilyAreResidentsOfDelhi': 'yes', 'identification_data_detailsOfTheWorkersFamily_0_': 'wife', 'identification_data_detailsOfTheWorkersFamily_1_': 'children', 'identification_data_howManyChildrenDoesTheWorkerHave': 5, 'identification_data_ifTheFemaleWorkerHerselfOrAMaleWorkersWifeIsPregnant': 'no', 'registration_documentation_id': '', 'registration_documentation_status': 'Call Not Done', 'registration_documentation_assigneeMobile': '7982109747', 'registration_documentation_assigneeName': 'Meenu'}, 'document_name': 'Delhi BoCW'}, {'mobile': '6206473081', 'state': 'Delhi BoCW 2021', 'created_at': '03/10/2022 06:52:37', 'operation': 'CREATE', 'data': {'mobile': '6206473081', 'state': 'Delhi BoCW 2021', 'persistent_data_statusOfAwarenessAboutClaims': 'aware', 'persistent_data_sourceOfInformation': 'groundSurvey', 'persistent_data_nameOfWorker': 'Mahmad azaj', 'persistent_data_age': 37, 'persistent_data_genderOfTheWorker': 'male', 'persistent_data_area': 'Mukandpur', 'persistent_data_pincode': 110047, 'persistent_data_district': 'northDelhi', 'persistent_data_statusOfLabourCard': 'toBeApplied', 'identification_id': '61dc56990a8065001a0922fc', 'identification_status': 'Call Done', 'identification_assigneeMobile': '8178214785', 'identification_assigneeName': 'Navita', 'identification_data_created': '10/01/2022 10:24:01', 'identification_data_modified': '10/01/2022 10:24:01', 'identification_data_statusOfAwarenessAboutLabourCard': 'aware', 'identification_data_whetherTheWorkerAndHisFamilyAreResidentsOfDelhi': 'yes', 'identification_data_detailsOfTheWorkersFamily_0_': 'wife', 'identification_data_detailsOfTheWorkersFamily_1_': 'children', 'identification_data_howManyChildrenDoesTheWorkerHave': 5, 'identification_data_ifTheFemaleWorkerHerselfOrAMaleWorkersWifeIsPregnant': 'no', 'registration_documentation_id': '', 'registration_documentation_status': 'Call Not Done', 'registration_documentation_assigneeMobile': '7982109747', 'registration_documentation_assigneeName': 'Meenu'}, 'document_name': 'Delhi BoCW'}, {'mobile': '6206473081', 'state': 'Delhi BoCW 2021', 'created_at': '03/11/2022 06:52:37', 'operation': 'CREATE', 'data': {'mobile': '6206473081', 'state': 'Delhi BoCW 2021', 'persistent_data_statusOfAwarenessAboutClaims': 'aware', 'persistent_data_sourceOfInformation': 'groundSurvey', 'persistent_data_nameOfWorker': 'Mahmad azaj', 'persistent_data_age': 37, 'persistent_data_genderOfTheWorker': 'male', 'persistent_data_area': 'Mukandpur', 'persistent_data_pincode': 110047, 'persistent_data_district': 'northDelhi', 'persistent_data_statusOfLabourCard': 'toBeApplied', 'identification_id': '61dc56990a8065001a0922fc', 'identification_status': 'Call Done', 'identification_assigneeMobile': '8178214785', 'identification_assigneeName': 'Navita', 'identification_data_created': '10/01/2022 10:24:01', 'identification_data_modified': '10/01/2022 10:24:01', 'identification_data_statusOfAwarenessAboutLabourCard': 'aware', 'identification_data_whetherTheWorkerAndHisFamilyAreResidentsOfDelhi': 'yes', 'identification_data_detailsOfTheWorkersFamily_0_': 'wife', 'identification_data_detailsOfTheWorkersFamily_1_': 'children', 'identification_data_howManyChildrenDoesTheWorkerHave': 5, 'identification_data_ifTheFemaleWorkerHerselfOrAMaleWorkersWifeIsPregnant': 'no', 'registration_documentation_id': '', 'registration_documentation_status': 'Call Not Done', 'registration_documentation_assigneeMobile': '7982109747', 'registration_documentation_assigneeName': 'Meenu'}, 'document_name': 'Delhi BoCW'}]\n"
     ]
    }
   ],
   "source": [
    "import json\n",
    "import ast\n",
    "cmsDataInit = \"/home/pardhu448/Projects/indusAction/redesignBocwGrievanceSystem/BoCWDataPipeline/BoCWDataPipeline/mongoinitdev/cms_dev_data.json\"\n",
    "contents = []\n",
    "for eaLine in open(cmsDataInit, 'r'):\n",
    "   eaLine = eaLine.replace('.', '_') \n",
    "   dataRecord = json.loads(eaLine)\n",
    "   #from IPython.core.debugger import set_trace\n",
    "   #set_trace()\n",
    "   dataRecord['data'] = json.loads(dataRecord['data'])\n",
    "   contents.append(dataRecord)\n",
    "parsedJsonArray = [parseJsonFile(eaDoc) for eaDoc in contents[6:15]]\n",
    "print(parsedJsonArray)"
   ]
  },
  {
   "cell_type": "code",
   "execution_count": null,
   "id": "f7095c9a",
   "metadata": {},
   "outputs": [],
   "source": []
  },
  {
   "cell_type": "code",
   "execution_count": null,
   "id": "1caaf190",
   "metadata": {},
   "outputs": [],
   "source": []
  }
 ],
 "metadata": {
  "kernelspec": {
   "display_name": "Python 3 (ipykernel)",
   "language": "python",
   "name": "python3"
  },
  "language_info": {
   "codemirror_mode": {
    "name": "ipython",
    "version": 3
   },
   "file_extension": ".py",
   "mimetype": "text/x-python",
   "name": "python",
   "nbconvert_exporter": "python",
   "pygments_lexer": "ipython3",
   "version": "3.8.10"
  }
 },
 "nbformat": 4,
 "nbformat_minor": 5
}
