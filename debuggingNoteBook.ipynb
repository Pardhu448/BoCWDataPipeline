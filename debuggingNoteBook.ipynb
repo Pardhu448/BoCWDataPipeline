{
 "cells": [
  {
   "cell_type": "code",
   "execution_count": 1,
   "id": "1b7e5a96",
   "metadata": {},
   "outputs": [],
   "source": [
    "from dotenv import load_dotenv\n",
    "from os.path import join, dirname\n",
    "from google.cloud import bigquery"
   ]
  },
  {
   "cell_type": "code",
   "execution_count": 2,
   "id": "c4290c72",
   "metadata": {},
   "outputs": [
    {
     "data": {
      "text/plain": [
       "True"
      ]
     },
     "execution_count": 2,
     "metadata": {},
     "output_type": "execute_result"
    }
   ],
   "source": [
    "dotenv_path = '.envtemp'\n",
    "load_dotenv(dotenv_path)"
   ]
  },
  {
   "cell_type": "code",
   "execution_count": 3,
   "id": "22412f2b",
   "metadata": {},
   "outputs": [],
   "source": [
    "import json\n",
    "srcJsonPath = '/home/pardhu448/Projects/indusAction/redesignBocwGrievanceSystem/BoCWDataPipeline/BoCWDataPipeline/data/dailyMongoDump/snapShot.json'"
   ]
  },
  {
   "cell_type": "code",
   "execution_count": 4,
   "id": "8b9d0aa3",
   "metadata": {},
   "outputs": [],
   "source": [
    "with open(srcJsonPath, 'r') as j:\n",
    "     contents = json.loads(j.read())"
   ]
  },
  {
   "cell_type": "code",
   "execution_count": 5,
   "id": "db6c837b",
   "metadata": {},
   "outputs": [
    {
     "ename": "AttributeError",
     "evalue": "'dict' object has no attribute 'encode'",
     "output_type": "error",
     "traceback": [
      "\u001b[0;31m---------------------------------------------------------------------------\u001b[0m",
      "\u001b[0;31mAttributeError\u001b[0m                            Traceback (most recent call last)",
      "Input \u001b[0;32mIn [5]\u001b[0m, in \u001b[0;36m<cell line: 10>\u001b[0;34m()\u001b[0m\n\u001b[1;32m      8\u001b[0m         new[k\u001b[38;5;241m.\u001b[39mreplace(\u001b[38;5;124m'\u001b[39m\u001b[38;5;124m$\u001b[39m\u001b[38;5;124m'\u001b[39m, \u001b[38;5;124m'\u001b[39m\u001b[38;5;124m_\u001b[39m\u001b[38;5;124m'\u001b[39m)] \u001b[38;5;241m=\u001b[39m v\n\u001b[1;32m      9\u001b[0m     \u001b[38;5;28;01mreturn\u001b[39;00m new\n\u001b[0;32m---> 10\u001b[0m parsedJsonArray \u001b[38;5;241m=\u001b[39m [replaceAllDollarsInKeys(eaDoc) \u001b[38;5;28;01mfor\u001b[39;00m eaDoc \u001b[38;5;129;01min\u001b[39;00m contents][:\u001b[38;5;241m20\u001b[39m]\n",
      "Input \u001b[0;32mIn [5]\u001b[0m, in \u001b[0;36m<listcomp>\u001b[0;34m(.0)\u001b[0m\n\u001b[1;32m      8\u001b[0m         new[k\u001b[38;5;241m.\u001b[39mreplace(\u001b[38;5;124m'\u001b[39m\u001b[38;5;124m$\u001b[39m\u001b[38;5;124m'\u001b[39m, \u001b[38;5;124m'\u001b[39m\u001b[38;5;124m_\u001b[39m\u001b[38;5;124m'\u001b[39m)] \u001b[38;5;241m=\u001b[39m v\n\u001b[1;32m      9\u001b[0m     \u001b[38;5;28;01mreturn\u001b[39;00m new\n\u001b[0;32m---> 10\u001b[0m parsedJsonArray \u001b[38;5;241m=\u001b[39m [\u001b[43mreplaceAllDollarsInKeys\u001b[49m\u001b[43m(\u001b[49m\u001b[43meaDoc\u001b[49m\u001b[43m)\u001b[49m \u001b[38;5;28;01mfor\u001b[39;00m eaDoc \u001b[38;5;129;01min\u001b[39;00m contents][:\u001b[38;5;241m20\u001b[39m]\n",
      "Input \u001b[0;32mIn [5]\u001b[0m, in \u001b[0;36mreplaceAllDollarsInKeys\u001b[0;34m(d)\u001b[0m\n\u001b[1;32m      5\u001b[0m     \u001b[38;5;28;01mif\u001b[39;00m \u001b[38;5;28misinstance\u001b[39m(v, \u001b[38;5;28mdict\u001b[39m):\n\u001b[1;32m      6\u001b[0m         v \u001b[38;5;241m=\u001b[39m replaceAllDollarsInKeys(v)\n\u001b[0;32m----> 7\u001b[0m     v \u001b[38;5;241m=\u001b[39m \u001b[43mv\u001b[49m\u001b[38;5;241;43m.\u001b[39;49m\u001b[43mencode\u001b[49m(\u001b[38;5;124m'\u001b[39m\u001b[38;5;124mraw-unicode-escape\u001b[39m\u001b[38;5;124m'\u001b[39m)\u001b[38;5;241m.\u001b[39msplit(\u001b[38;5;124mb\u001b[39m\u001b[38;5;124m'\u001b[39m\u001b[38;5;130;01m\\\\\u001b[39;00m\u001b[38;5;124mu\u001b[39m\u001b[38;5;124m'\u001b[39m)[\u001b[38;5;241m0\u001b[39m]\u001b[38;5;241m.\u001b[39mdecode()    \n\u001b[1;32m      8\u001b[0m     new[k\u001b[38;5;241m.\u001b[39mreplace(\u001b[38;5;124m'\u001b[39m\u001b[38;5;124m$\u001b[39m\u001b[38;5;124m'\u001b[39m, \u001b[38;5;124m'\u001b[39m\u001b[38;5;124m_\u001b[39m\u001b[38;5;124m'\u001b[39m)] \u001b[38;5;241m=\u001b[39m v\n\u001b[1;32m      9\u001b[0m \u001b[38;5;28;01mreturn\u001b[39;00m new\n",
      "\u001b[0;31mAttributeError\u001b[0m: 'dict' object has no attribute 'encode'"
     ]
    }
   ],
   "source": [
    "def replaceAllDollarsInKeys(d):\n",
    "    new = {}\n",
    "    for k, v in d.items():\n",
    "        k = k.encode('raw-unicode-escape').split(b'\\\\u')[0].decode()\n",
    "        if isinstance(v, dict):\n",
    "            v = replaceAllDollarsInKeys(v)\n",
    "        new[k.replace('$', '_')] = v\n",
    "    return new\n",
    "parsedJsonArray = [replaceAllDollarsInKeys(eaDoc) for eaDoc in contents][:20]"
   ]
  },
  {
   "cell_type": "code",
   "execution_count": 70,
   "id": "5a70b734",
   "metadata": {},
   "outputs": [],
   "source": [
    "srcJsonPath2 = '/home/pardhu448/Projects/indusAction/redesignBocwGrievanceSystem/BoCWDataPipeline/BoCWDataPipeline/data/dailyMongoDump/snapShot4.json'\n",
    "with open(srcJsonPath2, 'w') as f:\n",
    "    f.write('\\n'.join(map(json.dumps, parsedJsonArray)))"
   ]
  },
  {
   "cell_type": "code",
   "execution_count": 71,
   "id": "2d61d089",
   "metadata": {},
   "outputs": [
    {
     "data": {
      "text/plain": [
       "LoadJob<project=bocwdatapipeline, location=asia-south1, id=994bf6ed-3a05-417e-b78b-ba4ec3be48b8>"
      ]
     },
     "execution_count": 71,
     "metadata": {},
     "output_type": "execute_result"
    }
   ],
   "source": [
    "BQ_DATASET = 'BoCWGrievancesData'\n",
    "client = bigquery.Client()\n",
    "dataset_id = BQ_DATASET\n",
    "table_id = 'BoCWMasterTable_Ver00'\n",
    "  \n",
    "dataset_ref = client.dataset(dataset_id)\n",
    "table_ref = dataset_ref.table(table_id)\n",
    "job_config = bigquery.LoadJobConfig()\n",
    "job_config.source_format = bigquery.SourceFormat.NEWLINE_DELIMITED_JSON\n",
    "job_config.autodetect = True\n",
    "    \n",
    "#with open(srcJsonPath2, \"rb\") as source_file:\n",
    "#      job = client.load_table_from_file(source_file, \n",
    "#              table_ref, \n",
    "#              location=\"asia-south1\",  # Must match the destination dataset location.\n",
    "#              job_config=job_config)  # API request\n",
    "  \n",
    "#job.result()  # Waits for table load to complete."
   ]
  },
  {
   "cell_type": "code",
   "execution_count": null,
   "id": "23ddf351",
   "metadata": {},
   "outputs": [],
   "source": []
  }
 ],
 "metadata": {
  "kernelspec": {
   "display_name": "Python 3 (ipykernel)",
   "language": "python",
   "name": "python3"
  },
  "language_info": {
   "codemirror_mode": {
    "name": "ipython",
    "version": 3
   },
   "file_extension": ".py",
   "mimetype": "text/x-python",
   "name": "python",
   "nbconvert_exporter": "python",
   "pygments_lexer": "ipython3",
   "version": "3.8.10"
  }
 },
 "nbformat": 4,
 "nbformat_minor": 5
}
